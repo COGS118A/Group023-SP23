{
 "cells": [
  {
   "attachments": {},
   "cell_type": "markdown",
   "metadata": {},
   "source": [
    "# COGS 118A - Final Project"
   ]
  },
  {
   "attachments": {},
   "cell_type": "markdown",
   "metadata": {},
   "source": [
    "# ***Insert title here***\n",
    "\n",
    "## Group members\n",
    "\n",
    "- Patrick Helcl\n",
    "- Vignesh Jayananth\n",
    "- Rio Aguina-Kang\n",
    "- Christopher Rochez\n",
    "- Kai Stern"
   ]
  },
  {
   "attachments": {},
   "cell_type": "markdown",
   "metadata": {},
   "source": [
    "# Abstract \n",
    "This section should be short and clearly stated. It should be a single paragraph <200 words.  It should summarize: \n",
    "- what your goal/problem is\n",
    "- what the data used represents \n",
    "- the solution/what you did\n",
    "- major results you came up with (mention how results are measured) \n",
    "\n",
    "__NB:__ this final project form is much more report-like than the proposal and the checkpoint. Think in terms of writing a paper with bits of code in the middle to make the plots/tables"
   ]
  },
  {
   "attachments": {},
   "cell_type": "markdown",
   "metadata": {},
   "source": [
    "# Background\n",
    "\n",
    "Fill in the background and discuss the kind of prior work that has gone on in this research area here. **Use inline citation** to specify which references support which statements.  You can do that through HTML footnotes (demonstrated here). I used to reccommend Markdown footnotes (google is your friend) because they are simpler but recently I have had some problems with them working for me whereas HTML ones always work so far. So use the method that works for you, but do use inline citations.\n",
    "\n",
    "Here is an example of inline citation. After government genocide in the 20th century, real birds were replaced with surveillance drones designed to look just like birds<a name=\"lorenz\"></a>[<sup>[1]</sup>](#lorenznote). Use a minimum of 2 or 3 citations, but we prefer more <a name=\"admonish\"></a>[<sup>[2]</sup>](#admonishnote). You need enough citations to fully explain and back up important facts. \n",
    "\n",
    "Remeber you are trying to explain why someone would want to answer your question or why your hypothesis is in the form that you've stated. "
   ]
  },
  {
   "attachments": {},
   "cell_type": "markdown",
   "metadata": {},
   "source": [
    "# Problem Statement\n",
    "\n",
    "Clearly describe the problem that you are solving. Avoid ambiguous words. The problem described should be well defined and should have at least one ML-relevant potential solution. Additionally, describe the problem thoroughly such that it is clear that the problem is quantifiable (the problem can be expressed in mathematical or logical terms), measurable (the problem can be measured by some metric and clearly observed), and replicable (the problem can be reproduced and occurs more than once)."
   ]
  },
  {
   "attachments": {},
   "cell_type": "markdown",
   "metadata": {},
   "source": [
    "# Data\n",
    "\n",
    "Detail how/where you obtained the data and cleaned it (if necessary)\n",
    "\n",
    "If the data cleaning process is very long (e.g., elaborate text processing) consider describing it briefly here in text, and moving the actual clearning process to another notebook in your repo (include a link here!).  The idea behind this approach: this is a report, and if you blow up the flow of the report to include a lot of code it makes it hard to read.\n",
    "\n",
    "Please give the following infomration for each dataset you are using\n",
    "- link/reference to obtain it\n",
    "- description of the size of the dataset (# of variables, # of observations)\n",
    "- what an observation consists of\n",
    "- what some critical variables are, how they are represented\n",
    "- any special handling, transformations, cleaning, etc you have done should be demonstrated here!\n"
   ]
  },
  {
   "attachments": {},
   "cell_type": "markdown",
   "metadata": {},
   "source": [
    "# Proposed Solution\n",
    "\n",
    "In this section, clearly describe a solution to the problem. The solution should be applicable to the project domain and appropriate for the dataset(s) or input(s) given. Provide enough detail (e.g., algorithmic description and/or theoretical properties) to convince us that your solution is applicable. Make sure to describe how the solution will be tested.  \n",
    "\n",
    "If you know details already, describe how (e.g., library used, function calls) you plan to implement the solution in a way that is reproducible.\n",
    "\n",
    "If it is appropriate to the problem statement, describe a benchmark model<a name=\"sota\"></a>[<sup>[3]</sup>](#sotanote) against which your solution will be compared. "
   ]
  },
  {
   "attachments": {},
   "cell_type": "markdown",
   "metadata": {},
   "source": [
    "# Evaluation Metrics\n",
    "\n",
    "Propose at least one evaluation metric that can be used to quantify the performance of both the benchmark model and the solution model. The evaluation metric(s) you propose should be appropriate given the context of the data, the problem statement, and the intended solution. Describe how the evaluation metric(s) are derived and provide an example of their mathematical representations (if applicable). Complex evaluation metrics should be clearly defined and quantifiable (can be expressed in mathematical or logical terms)."
   ]
  },
  {
   "attachments": {},
   "cell_type": "markdown",
   "metadata": {},
   "source": [
    "# Results\n",
    "\n",
    "You may have done tons of work on this. Not all of it belongs here. \n",
    "\n",
    "Reports should have a __narrative__. Once you've looked through all your results over the quarter, decide on one main point and 2-4 secondary points you want us to understand. Include the detailed code and analysis results of those points only; you should spend more time/code/plots on your main point than the others.\n",
    "\n",
    "If you went down any blind alleys that you later decided to not pursue, please don't abuse the TAs time by throwing in 81 lines of code and 4 plots related to something you actually abandoned.  Consider deleting things that are not important to your narrative.  If its slightly relevant to the narrative or you just want us to know you tried something, you could keep it in by summarizing the result in this report in a sentence or two, moving the actual analysis to another file in your repo, and providing us a link to that file.\n",
    "\n",
    "### Subsection 1\n",
    "\n",
    "You will likely have different subsections as you go through your report. For instance you might start with an analysis of the dataset/problem and from there you might be able to draw out the kinds of algorithms that are / aren't appropriate to tackle the solution.  Or something else completely if this isn't the way your project works.\n",
    "\n",
    "### Subsection 2\n",
    "\n",
    "Another likely section is if you are doing any feature selection through cross-validation or hand-design/validation of features/transformations of the data\n",
    "\n",
    "### Subsection 3\n",
    "\n",
    "Probably you need to describe the base model and demonstrate its performance.  Maybe you include a learning curve to show whether you have enough data to do train/validate/test split or have to go to k-folds or LOOCV or ???\n",
    "\n",
    "### Subsection 4\n",
    "\n",
    "Perhaps some exploration of the model selection (hyper-parameters) or algorithm selection task. Validation curves, plots showing the variability of perfromance across folds of the cross-validation, etc. If you're doing one, the outcome of the null hypothesis test or parsimony principle check to show how you are selecting the best model.\n",
    "\n",
    "### Subsection 5 \n",
    "\n",
    "Maybe you do model selection again, but using a different kind of metric than before?\n",
    "\n"
   ]
  },
  {
   "attachments": {},
   "cell_type": "markdown",
   "metadata": {},
   "source": [
    "# Discussion\n",
    "\n",
    "### Interpreting the result\n",
    "\n",
    "OK, you've given us quite a bit of tech informaiton above, now its time to tell us what to pay attention to in all that.  Think clearly about your results, decide on one main point and 2-4 secondary points you want us to understand. Highlight HOW your results support those points.  You probably want 2-5 sentences per point.\n",
    "\n",
    "### Limitations\n",
    "\n",
    "Are there any problems with the work?  For instance would more data change the nature of the problem? Would it be good to explore more hyperparams than you had time for?   \n",
    "\n",
    "### Ethics & Privacy\n",
    "\n",
    "If your project has obvious potential concerns with ethics or data privacy discuss that here.  Almost every ML project put into production can have ethical implications if you use your imagination. Use your imagination.\n",
    "\n",
    "Even if you can't come up with an obvious ethical concern that should be addressed, you should know that a large number of ML projects that go into producation have unintended consequences and ethical problems once in production. How will your team address these issues?\n",
    "\n",
    "Consider a tool to help you address the potential issues such as https://deon.drivendata.org\n",
    "\n",
    "### Conclusion\n",
    "\n",
    "Reiterate your main point and in just a few sentences tell us how your results support it. Mention how this work would fit in the background/context of other work in this field if you can. Suggest directions for future work if you want to."
   ]
  },
  {
   "attachments": {},
   "cell_type": "markdown",
   "metadata": {},
   "source": [
    "# Footnotes\n",
    "<a name=\"lorenznote\"></a>1.[^](#lorenz): Lorenz, T. (9 Dec 2021) Birds Aren’t Real, or Are They? Inside a Gen Z Conspiracy Theory. *The New York Times*. https://www.nytimes.com/2021/12/09/technology/birds-arent-real-gen-z-misinformation.html<br> \n",
    "<a name=\"admonishnote\"></a>2.[^](#admonish): Also refs should be important to the background, not some randomly chosen vaguely related stuff. Include a web link if possible in refs as above.<br>\n",
    "<a name=\"sotanote\"></a>3.[^](#sota): Perhaps the current state of the art solution such as you see on [Papers with code](https://paperswithcode.com/sota). Or maybe not SOTA, but rather a standard textbook/Kaggle solution to this kind of problem\n"
   ]
  },
  {
   "attachments": {},
   "cell_type": "markdown",
   "metadata": {},
   "source": [
    "# *** Code starts below***"
   ]
  },
  {
   "cell_type": "code",
   "execution_count": 14,
   "metadata": {},
   "outputs": [
    {
     "data": {
      "text/html": [
       "<div>\n",
       "<style scoped>\n",
       "    .dataframe tbody tr th:only-of-type {\n",
       "        vertical-align: middle;\n",
       "    }\n",
       "\n",
       "    .dataframe tbody tr th {\n",
       "        vertical-align: top;\n",
       "    }\n",
       "\n",
       "    .dataframe thead th {\n",
       "        text-align: right;\n",
       "    }\n",
       "</style>\n",
       "<table border=\"1\" class=\"dataframe\">\n",
       "  <thead>\n",
       "    <tr style=\"text-align: right;\">\n",
       "      <th></th>\n",
       "      <th>City</th>\n",
       "      <th>Price</th>\n",
       "      <th>Day</th>\n",
       "      <th>Room Type</th>\n",
       "      <th>Shared Room</th>\n",
       "      <th>Private Room</th>\n",
       "      <th>Person Capacity</th>\n",
       "      <th>Superhost</th>\n",
       "      <th>Multiple Rooms</th>\n",
       "      <th>Business</th>\n",
       "      <th>Cleanliness Rating</th>\n",
       "      <th>Guest Satisfaction</th>\n",
       "      <th>Bedrooms</th>\n",
       "      <th>City Center (km)</th>\n",
       "      <th>Metro Distance (km)</th>\n",
       "      <th>Attraction Index</th>\n",
       "      <th>Restraunt Index</th>\n",
       "    </tr>\n",
       "  </thead>\n",
       "  <tbody>\n",
       "    <tr>\n",
       "      <th>0</th>\n",
       "      <td>Amsterdam</td>\n",
       "      <td>194.033698</td>\n",
       "      <td>Weekday</td>\n",
       "      <td>Private room</td>\n",
       "      <td>False</td>\n",
       "      <td>True</td>\n",
       "      <td>2.0</td>\n",
       "      <td>False</td>\n",
       "      <td>1</td>\n",
       "      <td>0</td>\n",
       "      <td>10.0</td>\n",
       "      <td>93.0</td>\n",
       "      <td>1</td>\n",
       "      <td>5.022964</td>\n",
       "      <td>2.539380</td>\n",
       "      <td>78.690379</td>\n",
       "      <td>98.253896</td>\n",
       "    </tr>\n",
       "    <tr>\n",
       "      <th>1</th>\n",
       "      <td>Amsterdam</td>\n",
       "      <td>344.245776</td>\n",
       "      <td>Weekday</td>\n",
       "      <td>Private room</td>\n",
       "      <td>False</td>\n",
       "      <td>True</td>\n",
       "      <td>4.0</td>\n",
       "      <td>False</td>\n",
       "      <td>0</td>\n",
       "      <td>0</td>\n",
       "      <td>8.0</td>\n",
       "      <td>85.0</td>\n",
       "      <td>1</td>\n",
       "      <td>0.488389</td>\n",
       "      <td>0.239404</td>\n",
       "      <td>631.176378</td>\n",
       "      <td>837.280757</td>\n",
       "    </tr>\n",
       "    <tr>\n",
       "      <th>2</th>\n",
       "      <td>Amsterdam</td>\n",
       "      <td>264.101422</td>\n",
       "      <td>Weekday</td>\n",
       "      <td>Private room</td>\n",
       "      <td>False</td>\n",
       "      <td>True</td>\n",
       "      <td>2.0</td>\n",
       "      <td>False</td>\n",
       "      <td>0</td>\n",
       "      <td>1</td>\n",
       "      <td>9.0</td>\n",
       "      <td>87.0</td>\n",
       "      <td>1</td>\n",
       "      <td>5.748312</td>\n",
       "      <td>3.651621</td>\n",
       "      <td>75.275877</td>\n",
       "      <td>95.386955</td>\n",
       "    </tr>\n",
       "    <tr>\n",
       "      <th>3</th>\n",
       "      <td>Amsterdam</td>\n",
       "      <td>433.529398</td>\n",
       "      <td>Weekday</td>\n",
       "      <td>Private room</td>\n",
       "      <td>False</td>\n",
       "      <td>True</td>\n",
       "      <td>4.0</td>\n",
       "      <td>False</td>\n",
       "      <td>0</td>\n",
       "      <td>1</td>\n",
       "      <td>9.0</td>\n",
       "      <td>90.0</td>\n",
       "      <td>2</td>\n",
       "      <td>0.384862</td>\n",
       "      <td>0.439876</td>\n",
       "      <td>493.272534</td>\n",
       "      <td>875.033098</td>\n",
       "    </tr>\n",
       "    <tr>\n",
       "      <th>4</th>\n",
       "      <td>Amsterdam</td>\n",
       "      <td>485.552926</td>\n",
       "      <td>Weekday</td>\n",
       "      <td>Private room</td>\n",
       "      <td>False</td>\n",
       "      <td>True</td>\n",
       "      <td>2.0</td>\n",
       "      <td>True</td>\n",
       "      <td>0</td>\n",
       "      <td>0</td>\n",
       "      <td>10.0</td>\n",
       "      <td>98.0</td>\n",
       "      <td>1</td>\n",
       "      <td>0.544738</td>\n",
       "      <td>0.318693</td>\n",
       "      <td>552.830324</td>\n",
       "      <td>815.305740</td>\n",
       "    </tr>\n",
       "  </tbody>\n",
       "</table>\n",
       "</div>"
      ],
      "text/plain": [
       "        City       Price      Day     Room Type  Shared Room  Private Room  \\\n",
       "0  Amsterdam  194.033698  Weekday  Private room        False          True   \n",
       "1  Amsterdam  344.245776  Weekday  Private room        False          True   \n",
       "2  Amsterdam  264.101422  Weekday  Private room        False          True   \n",
       "3  Amsterdam  433.529398  Weekday  Private room        False          True   \n",
       "4  Amsterdam  485.552926  Weekday  Private room        False          True   \n",
       "\n",
       "   Person Capacity  Superhost  Multiple Rooms  Business  Cleanliness Rating  \\\n",
       "0              2.0      False               1         0                10.0   \n",
       "1              4.0      False               0         0                 8.0   \n",
       "2              2.0      False               0         1                 9.0   \n",
       "3              4.0      False               0         1                 9.0   \n",
       "4              2.0       True               0         0                10.0   \n",
       "\n",
       "   Guest Satisfaction  Bedrooms  City Center (km)  Metro Distance (km)  \\\n",
       "0                93.0         1          5.022964             2.539380   \n",
       "1                85.0         1          0.488389             0.239404   \n",
       "2                87.0         1          5.748312             3.651621   \n",
       "3                90.0         2          0.384862             0.439876   \n",
       "4                98.0         1          0.544738             0.318693   \n",
       "\n",
       "   Attraction Index  Restraunt Index  \n",
       "0         78.690379        98.253896  \n",
       "1        631.176378       837.280757  \n",
       "2         75.275877        95.386955  \n",
       "3        493.272534       875.033098  \n",
       "4        552.830324       815.305740  "
      ]
     },
     "execution_count": 14,
     "metadata": {},
     "output_type": "execute_result"
    }
   ],
   "source": [
    "# Raw data and necessary imports\n",
    "import numpy as np\n",
    "import seaborn as sns\n",
    "import matplotlib.pyplot as plt\n",
    "import pandas as pd \n",
    "\n",
    "from sklearn.model_selection import train_test_split\n",
    "from sklearn.compose import ColumnTransformer\n",
    "from sklearn.pipeline import Pipeline\n",
    "from sklearn.preprocessing import OneHotEncoder, StandardScaler\n",
    "from sklearn.tree import DecisionTreeRegressor\n",
    "from sklearn.ensemble import RandomForestRegressor\n",
    "from sklearn.metrics import r2_score, mean_squared_error, mean_absolute_error\n",
    "from sklearn.model_selection import GridSearchCV\n",
    "\n",
    "from sklearn.ensemble import RandomForestRegressor\n",
    "from sklearn.feature_selection import RFECV\n",
    "import matplotlib.pyplot as plt\n",
    "\n",
    "airbnb = pd.read_csv('https://raw.githubusercontent.com/COGS118A/Group023-SP23/main/Aemf1.csv')\n",
    "\n",
    "airbnb = airbnb.drop(columns=['Normalised Attraction Index', 'Normalised Restraunt Index'])\n",
    "airbnb.head()"
   ]
  },
  {
   "cell_type": "code",
   "execution_count": 17,
   "metadata": {},
   "outputs": [
    {
     "name": "stdout",
     "output_type": "stream",
     "text": [
      "Mean Absolute Error: 56.556481233962906\n",
      "R-squared score: 0.273122142741394\n"
     ]
    }
   ],
   "source": [
    "# Decision tree regressor on all columns (baseline model)\n",
    "\n",
    "X = airbnb.drop('Price', axis=1)  \n",
    "y = airbnb['Price']  \n",
    "\n",
    "categorical_cols = ['City', 'Day', 'Room Type']\n",
    "\n",
    "numeric_cols = ['Person Capacity', 'Cleanliness Rating', 'Guest Satisfaction', 'Bedrooms',\n",
    "                'City Center (km)', 'Metro Distance (km)', 'Attraction Index','Restraunt Index']\n",
    "\n",
    "boolean_cols = ['Shared Room', 'Private Room', 'Superhost', 'Multiple Rooms', 'Business']\n",
    "\n",
    "X_train, X_test, y_train, y_test = train_test_split(X, y, test_size=0.3, random_state=40)\n",
    "\n",
    "preproc = ColumnTransformer(\n",
    "    transformers=[\n",
    "        ('one hot', OneHotEncoder(categories='auto'), categorical_cols),\n",
    "        ('standarize', StandardScaler(), numeric_cols),\n",
    "        ('bool as is ', 'passthrough', boolean_cols)])\n",
    "\n",
    "pipeline_dtree = Pipeline([('preprocessor', preproc),('regressor', DecisionTreeRegressor())])\n",
    "\n",
    "pipeline_dtree.fit(X_train, y_train)\n",
    "predictions = pipeline_dtree.predict(X_test)\n",
    "\n",
    "\n",
    "mae = mean_absolute_error(y_test, predictions)\n",
    "r2 = r2_score(y_test, predictions)\n",
    "\n",
    "print(f\"Mean Absolute Error: {mae}\")\n",
    "print(f\"R-squared score: {r2}\")\n",
    "\n",
    "# tends to have much lower MAE then either Linear regression above"
   ]
  },
  {
   "cell_type": "code",
   "execution_count": 18,
   "metadata": {},
   "outputs": [
    {
     "name": "stdout",
     "output_type": "stream",
     "text": [
      "Mean Absolute Error: 54.03664272156715\n",
      "R-squared error: 0.325344199879783\n"
     ]
    }
   ],
   "source": [
    "# baseline random forest\n",
    "\n",
    "pipeline_rf = Pipeline([('preprocessor', preproc), ('regressor', RandomForestRegressor())])\n",
    "\n",
    "pipeline_rf.fit(X_train, y_train)\n",
    "predictions = pipeline_rf.predict(X_test)\n",
    "\n",
    "mae = mean_absolute_error(y_test, predictions)\n",
    "r2 = r2_score(y_test, predictions)\n",
    "\n",
    "print(f\"Mean Absolute Error: {mae}\")\n",
    "print(f\"R-squared error: {r2}\")"
   ]
  },
  {
   "cell_type": "code",
   "execution_count": 30,
   "metadata": {},
   "outputs": [
    {
     "name": "stdout",
     "output_type": "stream",
     "text": [
      "Selected Features:\n",
      "['City_Amsterdam', 'City_Athens', 'City_Barcelona', 'City_Berlin', 'City_Budapest', 'City_Lisbon', 'City_Paris', 'City_Rome', 'Day_Weekday', 'Day_Weekend', 'Room Type_Entire home/apt', 'Room Type_Private room', 'Person Capacity', 'Cleanliness Rating', 'Guest Satisfaction', 'Bedrooms', 'City Center (km)', 'Metro Distance (km)', 'Attraction Index', 'Restraunt Index', 'Private Room', 'Superhost', 'Multiple Rooms', 'Business']\n"
     ]
    }
   ],
   "source": [
    "# feature selection block\n",
    "\n",
    "subset = airbnb.sample(n=int(41714/800), random_state=23)\n",
    "\n",
    "X = subset.drop('Price', axis=1)\n",
    "y = subset['Price']\n",
    "\n",
    "X_train, X_test, y_train, y_test = train_test_split(X, y, test_size=0.25, random_state=42)\n",
    "\n",
    "categorical_cols = ['City', 'Day', 'Room Type']\n",
    "\n",
    "numeric_cols = ['Person Capacity', 'Cleanliness Rating', 'Guest Satisfaction', 'Bedrooms',\n",
    "                'City Center (km)', 'Metro Distance (km)', 'Attraction Index','Restraunt Index']\n",
    "\n",
    "boolean_cols = ['Shared Room', 'Private Room', 'Superhost', 'Multiple Rooms', 'Business']\n",
    "\n",
    "preproc = ColumnTransformer(\n",
    "    transformers=[\n",
    "        ('one hot', OneHotEncoder(categories='auto'), categorical_cols),\n",
    "        ('standardize', StandardScaler(), numeric_cols),\n",
    "        ('bool as is', 'passthrough', boolean_cols)\n",
    "    ])\n",
    "\n",
    "X_train_transformed = preproc.fit_transform(X_train)\n",
    "\n",
    "X_test_transformed = preproc.transform(X_test)\n",
    "\n",
    "rf_regressor = RandomForestRegressor()\n",
    "\n",
    "selector = RFECV(rf_regressor, cv=5, scoring='neg_mean_absolute_error')\n",
    "selector.fit(X_train_transformed, y_train)\n",
    "\n",
    "selected_features = preproc.transformers_[0][1].get_feature_names_out(categorical_cols).tolist() + numeric_cols + boolean_cols\n",
    "selected_features = [selected_features[i] for i, support in enumerate(selector.support_) if support]\n",
    "\n",
    "print(\"Selected Features: \")\n",
    "print(selected_features)"
   ]
  },
  {
   "cell_type": "code",
   "execution_count": 33,
   "metadata": {},
   "outputs": [
    {
     "name": "stdout",
     "output_type": "stream",
     "text": [
      "Index(['City', 'Price', 'Day', 'Room Type', 'Shared Room', 'Private Room',\n",
      "       'Person Capacity', 'Superhost', 'Multiple Rooms', 'Business',\n",
      "       'Cleanliness Rating', 'Guest Satisfaction', 'Bedrooms',\n",
      "       'City Center (km)', 'Metro Distance (km)', 'Attraction Index',\n",
      "       'Restraunt Index'],\n",
      "      dtype='object')\n"
     ]
    },
    {
     "data": {
      "text/plain": [
       "['City_Amsterdam',\n",
       " 'City_Athens',\n",
       " 'City_Barcelona',\n",
       " 'City_Berlin',\n",
       " 'City_Budapest',\n",
       " 'City_Lisbon',\n",
       " 'City_Paris',\n",
       " 'City_Rome',\n",
       " 'Day_Weekday',\n",
       " 'Day_Weekend',\n",
       " 'Room Type_Entire home/apt',\n",
       " 'Room Type_Private room',\n",
       " 'Person Capacity',\n",
       " 'Cleanliness Rating',\n",
       " 'Guest Satisfaction',\n",
       " 'Bedrooms',\n",
       " 'City Center (km)',\n",
       " 'Metro Distance (km)',\n",
       " 'Attraction Index',\n",
       " 'Restraunt Index',\n",
       " 'Private Room',\n",
       " 'Superhost',\n",
       " 'Multiple Rooms',\n",
       " 'Business']"
      ]
     },
     "execution_count": 33,
     "metadata": {},
     "output_type": "execute_result"
    }
   ],
   "source": [
    "# original columns for reference\n",
    "print(airbnb.columns)\n",
    "selected_features\n",
    "\n",
    "# all columns used excpet shared room"
   ]
  },
  {
   "cell_type": "code",
   "execution_count": 37,
   "metadata": {},
   "outputs": [
    {
     "name": "stdout",
     "output_type": "stream",
     "text": [
      "Mean Absolute Error: 53.820187116050754\n",
      "R-squared error: 0.3345413202652636\n"
     ]
    }
   ],
   "source": [
    "# random forest using featured selected features:\n",
    "\n",
    "X = airbnb[['City','Day','Room Type','Person Capacity','Private Room','Cleanliness Rating','Guest Satisfaction','Bedrooms',\n",
    "            'City Center (km)','Metro Distance (km)','Attraction Index','Restraunt Index','Superhost','Multiple Rooms',\n",
    "            'Business']]\n",
    "\n",
    "y = airbnb['Price']  \n",
    "\n",
    "new_cat_cols = ['City', 'Day', 'Room Type']\n",
    "\n",
    "new_num_cols = ['Person Capacity', 'Cleanliness Rating', 'Guest Satisfaction', 'Bedrooms',\n",
    "                'City Center (km)', 'Metro Distance (km)', 'Attraction Index','Restraunt Index']\n",
    "\n",
    "new_bool_cols = ['Private Room', 'Superhost','Multiple Rooms', 'Business']\n",
    "\n",
    "preproc2 = ColumnTransformer(\n",
    "    transformers=[\n",
    "        ('one hot', OneHotEncoder(categories='auto'), new_cat_cols),\n",
    "        ('standardize', StandardScaler(), new_num_cols),\n",
    "        ('bool as is', 'passthrough', new_bool_cols)])\n",
    "\n",
    "X_train, X_test, y_train, y_test = train_test_split(X, y, test_size=0.3, random_state=40)\n",
    "\n",
    "pipeline_rf = Pipeline([('preprocessor', preproc2), ('regressor', RandomForestRegressor())])\n",
    "\n",
    "pipeline_rf.fit(X_train, y_train)\n",
    "predictions = pipeline_rf.predict(X_test)\n",
    "\n",
    "r2 = r2_score(y_test, predictions)\n",
    "mae = mean_absolute_error(y_test, predictions)\n",
    "\n",
    "print(f\"Mean Absolute Error: {mae}\") \n",
    "print(f\"R-squared error: {r2}\")"
   ]
  },
  {
   "cell_type": "code",
   "execution_count": 38,
   "metadata": {},
   "outputs": [
    {
     "name": "stdout",
     "output_type": "stream",
     "text": [
      "Mean Absolute Error: 55.99806148827858\n",
      "R-squared error: 0.28237025698314755\n"
     ]
    }
   ],
   "source": [
    "# decision tree regressor with featured selected columns for comparison\n",
    "pipeline_dtree = Pipeline([('preprocessor', preproc2),('regressor', DecisionTreeRegressor())])\n",
    "\n",
    "pipeline_dtree.fit(X_train, y_train)\n",
    "predictions = pipeline_dtree.predict(X_test)\n",
    "\n",
    "r2 = r2_score(y_test, predictions)\n",
    "mae = mean_absolute_error(y_test, predictions)\n",
    "\n",
    "print(f\"Mean Absolute Error: {mae}\")\n",
    "print(f\"R-squared error: {r2}\")"
   ]
  },
  {
   "cell_type": "code",
   "execution_count": 53,
   "metadata": {},
   "outputs": [
    {
     "name": "stdout",
     "output_type": "stream",
     "text": [
      "Best Estimator:\n",
      "RandomForestRegressor(n_estimators=40)\n"
     ]
    }
   ],
   "source": [
    "# hyper parameter selction \n",
    "\n",
    "subset = airbnb.sample(n=int(41714/800), random_state=23)\n",
    "\n",
    "X = subset[['City','Day','Room Type','Person Capacity','Private Room','Cleanliness Rating','Guest Satisfaction','Bedrooms',\n",
    "            'City Center (km)','Metro Distance (km)','Attraction Index','Restraunt Index','Superhost','Multiple Rooms',\n",
    "            'Business']]\n",
    "\n",
    "y = subset['Price'] \n",
    "\n",
    "new_cat_cols = ['City', 'Day', 'Room Type']\n",
    "\n",
    "new_num_cols = ['Person Capacity', 'Cleanliness Rating', 'Guest Satisfaction', 'Bedrooms',\n",
    "                'City Center (km)', 'Metro Distance (km)', 'Attraction Index','Restraunt Index']\n",
    "\n",
    "new_bool_cols = ['Private Room', 'Superhost','Multiple Rooms', 'Business']\n",
    "\n",
    "X_train, X_test, y_train, y_test = train_test_split(X, y, test_size=0.3, random_state=42)\n",
    "\n",
    "preproc3 = ColumnTransformer(\n",
    "    transformers=[\n",
    "        ('one hot', OneHotEncoder(categories='auto'), new_cat_cols),\n",
    "        ('standardize', StandardScaler(), new_num_cols),\n",
    "        ('bool as is', 'passthrough', new_bool_cols)\n",
    "    ])\n",
    "\n",
    "X_train_transformed = preproc3.fit_transform(X_train)\n",
    "\n",
    "preproc3_copy = preproc3\n",
    "preproc3_copy.named_transformers_['one hot'].handle_unknown = 'ignore'\n",
    "\n",
    "X_test_transformed = preproc3_copy.transform(X_test)\n",
    "\n",
    "rf_regressor = RandomForestRegressor()\n",
    "\n",
    "param_grid = {\n",
    "    'n_estimators': [40, 100, 150],\n",
    "    'max_depth': [None, 5, 10],\n",
    "    'min_samples_split': [2, 4, 6],\n",
    "}\n",
    "\n",
    "grid_search = GridSearchCV(rf_regressor, param_grid, cv=5, scoring='neg_mean_absolute_error')\n",
    "grid_search.fit(X_train_transformed, y_train)\n",
    "\n",
    "best_estimator = grid_search.best_estimator_\n",
    "\n",
    "print(\"Best Estimator:\")\n",
    "print(best_estimator)"
   ]
  },
  {
   "cell_type": "code",
   "execution_count": 54,
   "metadata": {},
   "outputs": [
    {
     "name": "stdout",
     "output_type": "stream",
     "text": [
      "n_estimators F-statistic: 0.5616635899672172\n",
      "n_estimators P-value: 0.5775758825057886\n",
      "Depth F-statistic: 0.04963405690771124\n",
      "Depth P-value: 0.9516749975608311\n",
      "min_samples_split F-statistic: 3.861784373338295\n",
      "min_samples_split P-value: 0.03515203335706652\n"
     ]
    }
   ],
   "source": [
    "import scipy.stats as stats\n",
    "\n",
    "results = grid_search.cv_results_\n",
    "n_estimators_values = param_grid['n_estimators']\n",
    "\n",
    "n_40 = [results['mean_test_score'][i] for i in range(len(results['params'])) if results['params'][i]['n_estimators'] == 40]\n",
    "n_100 = [results['mean_test_score'][i] for i in range(len(results['params'])) if results['params'][i]['n_estimators'] == 100]\n",
    "n_150 = [results['mean_test_score'][i] for i in range(len(results['params'])) if results['params'][i]['n_estimators'] == 150]\n",
    "\n",
    "# Perform ANOVA test\n",
    "f_stat1, p_value1 = stats.f_oneway(n_40, n_100, n_150)\n",
    "\n",
    "# Print the results\n",
    "print(\"n_estimators F-statistic:\", f_stat1)\n",
    "print(\"n_estimators P-value:\", p_value1)\n",
    "\n",
    "depth_none = [results['mean_test_score'][i] for i in range(len(results['params'])) if results['params'][i]['max_depth'] == None]\n",
    "depth_5 = [results['mean_test_score'][i] for i in range(len(results['params'])) if results['params'][i]['max_depth'] == 5]\n",
    "depth_10 = [results['mean_test_score'][i] for i in range(len(results['params'])) if results['params'][i]['max_depth'] == 10]\n",
    "f_stat2, p_value2 = stats.f_oneway(depth_none, depth_5, depth_10)\n",
    "\n",
    "# Print the results\n",
    "print(\"Depth F-statistic:\", f_stat2)\n",
    "print(\"Depth P-value:\", p_value2)\n",
    "\n",
    "min_2 = [results['mean_test_score'][i] for i in range(len(results['params'])) if results['params'][i]['min_samples_split'] == 2]\n",
    "min_4 = [results['mean_test_score'][i] for i in range(len(results['params'])) if results['params'][i]['min_samples_split'] == 4]\n",
    "min_6 = [results['mean_test_score'][i] for i in range(len(results['params'])) if results['params'][i]['min_samples_split'] == 6]\n",
    "f_stat3, p_value3 = stats.f_oneway(min_2, min_4, min_6)\n",
    "\n",
    "# Print the results\n",
    "print(\"min_samples_split F-statistic:\", f_stat3)\n",
    "print(\"min_samples_split P-value:\", p_value3)"
   ]
  },
  {
   "cell_type": "code",
   "execution_count": 55,
   "metadata": {},
   "outputs": [
    {
     "name": "stdout",
     "output_type": "stream",
     "text": [
      "Mean Absolute Error: 54.36109933884172\n",
      "R-squared error: 0.3292195728779168\n"
     ]
    }
   ],
   "source": [
    "# random forest model with hyper parameter tuning and featured selected features:\n",
    "\n",
    "X = airbnb[['City','Day','Room Type','Person Capacity','Private Room','Cleanliness Rating','Guest Satisfaction','Bedrooms',\n",
    "            'City Center (km)','Metro Distance (km)','Attraction Index','Restraunt Index','Superhost','Multiple Rooms',\n",
    "            'Business']]\n",
    "\n",
    "y = airbnb['Price']  \n",
    "\n",
    "new_cat_cols = ['City', 'Day', 'Room Type']\n",
    "\n",
    "new_num_cols = ['Person Capacity', 'Cleanliness Rating', 'Guest Satisfaction', 'Bedrooms',\n",
    "                'City Center (km)', 'Metro Distance (km)', 'Attraction Index','Restraunt Index']\n",
    "\n",
    "new_bool_cols = ['Private Room', 'Superhost','Multiple Rooms', 'Business']\n",
    "\n",
    "preproc4 = ColumnTransformer(\n",
    "    transformers=[\n",
    "        ('one hot', OneHotEncoder(categories='auto'), new_cat_cols),\n",
    "        ('standardize', StandardScaler(), new_num_cols),\n",
    "        ('bool as is', 'passthrough', new_bool_cols)])\n",
    "\n",
    "X_train, X_test, y_train, y_test = train_test_split(X, y, test_size=0.3, random_state=40)\n",
    "\n",
    "pipeline_rf = Pipeline([('preprocessor', preproc4), ('regressor', RandomForestRegressor(n_estimators=40))])\n",
    "\n",
    "pipeline_rf.fit(X_train, y_train)\n",
    "predictions = pipeline_rf.predict(X_test)\n",
    "\n",
    "\n",
    "r2 = r2_score(y_test, predictions)\n",
    "mae = mean_absolute_error(y_test, predictions)\n",
    "\n",
    "print(f\"Mean Absolute Error: {mae}\") \n",
    "print(f\"R-squared error: {r2}\")"
   ]
  },
  {
   "cell_type": "code",
   "execution_count": 57,
   "metadata": {},
   "outputs": [
    {
     "name": "stdout",
     "output_type": "stream",
     "text": [
      "R-squared error: 0.28155097451516853\n",
      "Mean Absolute Error: 55.949450145861285\n"
     ]
    }
   ],
   "source": [
    "# addition Descion tree regessor with feature selected features for one more comaprison\n",
    "pipeline_dtree = Pipeline([('preprocessor', preproc2),('regressor', DecisionTreeRegressor())])\n",
    "\n",
    "pipeline_dtree.fit(X_train, y_train)\n",
    "predictions = pipeline_dtree.predict(X_test)\n",
    "\n",
    "r2 = r2_score(y_test, predictions)\n",
    "mae = mean_absolute_error(y_test, predictions)\n",
    "\n",
    "print(f\"R-squared error: {r2}\")\n",
    "print(f\"Mean Absolute Error: {mae}\")"
   ]
  },
  {
   "cell_type": "code",
   "execution_count": null,
   "metadata": {},
   "outputs": [],
   "source": []
  }
 ],
 "metadata": {
  "kernelspec": {
   "display_name": "Python 3",
   "language": "python",
   "name": "python3"
  },
  "language_info": {
   "codemirror_mode": {
    "name": "ipython",
    "version": 3
   },
   "file_extension": ".py",
   "mimetype": "text/x-python",
   "name": "python",
   "nbconvert_exporter": "python",
   "pygments_lexer": "ipython3",
   "version": "3.8.16"
  }
 },
 "nbformat": 4,
 "nbformat_minor": 2
}
